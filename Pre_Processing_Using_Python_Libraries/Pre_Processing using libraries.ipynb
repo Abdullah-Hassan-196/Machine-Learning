{
 "cells": [
  {
   "cell_type": "markdown",
   "metadata": {},
   "source": [
    "BUSINESS DESCRIPTION:\n",
    "\n",
    "The dataset provided offers an opportunity to delve into tipping behavior analysis within our restaurant setting. It encompasses crucial factors like total bill, tip amount, customer gender, smoking preference, day of the week, time of day, and dining party size, shedding light on tipping patterns. By harnessing this data effectively, we aim to uncover correlations and trends that elucidate the drivers behind tipping behavior. This analysis will guide decisions regarding staffing allocation during peak periods, tailored customer experiences tailored to demographics and dining contexts, and focused marketing initiatives to attract and retain customers.\n"
   ]
  },
  {
   "cell_type": "markdown",
   "metadata": {},
   "source": [
    "Pre-Processing Of Data:\n",
    "\n",
    "Handle Missing Values: Fill all the null values which are existing in age, salary, and education column using measures of central tendency.\n",
    "\n",
    "\n",
    "Encode Categorical Variables: Convert categorical variables like Name, gender and education into numerical format using OneHotEncoding.\n",
    "\n",
    "\n",
    "Feature Scaling: Standardize or normalize numerical features like age and salary.\n",
    "\n",
    "\n",
    "Data Splitting: Split the dataset into training and testing sets.\n"
   ]
  },
  {
   "cell_type": "code",
   "execution_count": 31,
   "metadata": {},
   "outputs": [],
   "source": [
    "import pandas as pd\n",
    "import matplotlib.pyplot as pylot"
   ]
  },
  {
   "cell_type": "code",
   "execution_count": 32,
   "metadata": {},
   "outputs": [
    {
     "data": {
      "text/html": [
       "<div>\n",
       "<style scoped>\n",
       "    .dataframe tbody tr th:only-of-type {\n",
       "        vertical-align: middle;\n",
       "    }\n",
       "\n",
       "    .dataframe tbody tr th {\n",
       "        vertical-align: top;\n",
       "    }\n",
       "\n",
       "    .dataframe thead th {\n",
       "        text-align: right;\n",
       "    }\n",
       "</style>\n",
       "<table border=\"1\" class=\"dataframe\">\n",
       "  <thead>\n",
       "    <tr style=\"text-align: right;\">\n",
       "      <th></th>\n",
       "      <th>total_bill</th>\n",
       "      <th>smoker</th>\n",
       "      <th>sex</th>\n",
       "      <th>day</th>\n",
       "      <th>time</th>\n",
       "      <th>tip</th>\n",
       "    </tr>\n",
       "  </thead>\n",
       "  <tbody>\n",
       "    <tr>\n",
       "      <th>0</th>\n",
       "      <td>16.99</td>\n",
       "      <td>Yes</td>\n",
       "      <td>Female</td>\n",
       "      <td>Sun</td>\n",
       "      <td>Dinner</td>\n",
       "      <td>1.01</td>\n",
       "    </tr>\n",
       "    <tr>\n",
       "      <th>1</th>\n",
       "      <td>10.34</td>\n",
       "      <td>No</td>\n",
       "      <td>Male</td>\n",
       "      <td>Sun</td>\n",
       "      <td>Dinner</td>\n",
       "      <td>1.66</td>\n",
       "    </tr>\n",
       "    <tr>\n",
       "      <th>2</th>\n",
       "      <td>21.01</td>\n",
       "      <td>No</td>\n",
       "      <td>Male</td>\n",
       "      <td>Sun</td>\n",
       "      <td>Lunch</td>\n",
       "      <td>3.50</td>\n",
       "    </tr>\n",
       "    <tr>\n",
       "      <th>3</th>\n",
       "      <td>23.68</td>\n",
       "      <td>Yes</td>\n",
       "      <td>Male</td>\n",
       "      <td>Sun</td>\n",
       "      <td>Lunch</td>\n",
       "      <td>1.02</td>\n",
       "    </tr>\n",
       "    <tr>\n",
       "      <th>4</th>\n",
       "      <td>24.59</td>\n",
       "      <td>No</td>\n",
       "      <td>NaN</td>\n",
       "      <td>Sat</td>\n",
       "      <td>Lunch</td>\n",
       "      <td>3.61</td>\n",
       "    </tr>\n",
       "    <tr>\n",
       "      <th>5</th>\n",
       "      <td>25.29</td>\n",
       "      <td>Yes</td>\n",
       "      <td>Male</td>\n",
       "      <td>Sun</td>\n",
       "      <td>NaN</td>\n",
       "      <td>4.71</td>\n",
       "    </tr>\n",
       "    <tr>\n",
       "      <th>6</th>\n",
       "      <td>8.77</td>\n",
       "      <td>No</td>\n",
       "      <td>NaN</td>\n",
       "      <td>Sun</td>\n",
       "      <td>Dinner</td>\n",
       "      <td>2.00</td>\n",
       "    </tr>\n",
       "    <tr>\n",
       "      <th>7</th>\n",
       "      <td>26.88</td>\n",
       "      <td>NaN</td>\n",
       "      <td>Male</td>\n",
       "      <td>Mon</td>\n",
       "      <td>Lunch</td>\n",
       "      <td>3.12</td>\n",
       "    </tr>\n",
       "    <tr>\n",
       "      <th>8</th>\n",
       "      <td>15.04</td>\n",
       "      <td>NaN</td>\n",
       "      <td>Female</td>\n",
       "      <td>Sun</td>\n",
       "      <td>Dinner</td>\n",
       "      <td>1.96</td>\n",
       "    </tr>\n",
       "    <tr>\n",
       "      <th>9</th>\n",
       "      <td>NaN</td>\n",
       "      <td>No</td>\n",
       "      <td>Male</td>\n",
       "      <td>NaN</td>\n",
       "      <td>Lunch</td>\n",
       "      <td>3.23</td>\n",
       "    </tr>\n",
       "    <tr>\n",
       "      <th>10</th>\n",
       "      <td>10.27</td>\n",
       "      <td>Yes</td>\n",
       "      <td>Male</td>\n",
       "      <td>Sun</td>\n",
       "      <td>Dinner</td>\n",
       "      <td>1.71</td>\n",
       "    </tr>\n",
       "    <tr>\n",
       "      <th>11</th>\n",
       "      <td>35.26</td>\n",
       "      <td>No</td>\n",
       "      <td>Female</td>\n",
       "      <td>Fri</td>\n",
       "      <td>Breakfast</td>\n",
       "      <td>5.00</td>\n",
       "    </tr>\n",
       "    <tr>\n",
       "      <th>12</th>\n",
       "      <td>15.42</td>\n",
       "      <td>Yes</td>\n",
       "      <td>Male</td>\n",
       "      <td>NaN</td>\n",
       "      <td>NaN</td>\n",
       "      <td>2.70</td>\n",
       "    </tr>\n",
       "  </tbody>\n",
       "</table>\n",
       "</div>"
      ],
      "text/plain": [
       "    total_bill smoker     sex  day       time   tip\n",
       "0        16.99    Yes  Female  Sun     Dinner  1.01\n",
       "1        10.34     No    Male  Sun     Dinner  1.66\n",
       "2        21.01     No    Male  Sun      Lunch  3.50\n",
       "3        23.68    Yes    Male  Sun      Lunch  1.02\n",
       "4        24.59     No     NaN  Sat      Lunch  3.61\n",
       "5        25.29    Yes    Male  Sun        NaN  4.71\n",
       "6         8.77     No     NaN  Sun     Dinner  2.00\n",
       "7        26.88    NaN    Male  Mon      Lunch  3.12\n",
       "8        15.04    NaN  Female  Sun     Dinner  1.96\n",
       "9          NaN     No    Male  NaN      Lunch  3.23\n",
       "10       10.27    Yes    Male  Sun     Dinner  1.71\n",
       "11       35.26     No  Female  Fri  Breakfast  5.00\n",
       "12       15.42    Yes    Male  NaN        NaN  2.70"
      ]
     },
     "execution_count": 32,
     "metadata": {},
     "output_type": "execute_result"
    }
   ],
   "source": [
    "df = pd.read_csv(\"tips.csv\")\n",
    "df"
   ]
  },
  {
   "cell_type": "code",
   "execution_count": 33,
   "metadata": {},
   "outputs": [
    {
     "data": {
      "text/plain": [
       "array([[16.99, 'Yes', 'Female', 'Sun', 'Dinner'],\n",
       "       [10.34, 'No', 'Male', 'Sun', 'Dinner'],\n",
       "       [21.01, 'No', 'Male', 'Sun', 'Lunch'],\n",
       "       [23.68, 'Yes', 'Male', 'Sun', 'Lunch'],\n",
       "       [24.59, 'No', nan, 'Sat', 'Lunch'],\n",
       "       [25.29, 'Yes', 'Male', 'Sun', nan],\n",
       "       [8.77, 'No', nan, 'Sun', 'Dinner'],\n",
       "       [26.88, nan, 'Male', 'Mon', 'Lunch'],\n",
       "       [15.04, nan, 'Female', 'Sun', 'Dinner'],\n",
       "       [nan, 'No', 'Male', nan, 'Lunch'],\n",
       "       [10.27, 'Yes', 'Male', 'Sun', 'Dinner'],\n",
       "       [35.26, 'No', 'Female', 'Fri', 'Breakfast'],\n",
       "       [15.42, 'Yes', 'Male', nan, nan]], dtype=object)"
      ]
     },
     "execution_count": 33,
     "metadata": {},
     "output_type": "execute_result"
    }
   ],
   "source": [
    "X = df.iloc[:,:-1].values\n",
    "y = df.iloc[:,5].values\n",
    "X"
   ]
  },
  {
   "cell_type": "code",
   "execution_count": 34,
   "metadata": {},
   "outputs": [
    {
     "data": {
      "text/plain": [
       "array([1.01, 1.66, 3.5 , 1.02, 3.61, 4.71, 2.  , 3.12, 1.96, 3.23, 1.71,\n",
       "       5.  , 2.7 ])"
      ]
     },
     "execution_count": 34,
     "metadata": {},
     "output_type": "execute_result"
    }
   ],
   "source": [
    "y"
   ]
  },
  {
   "cell_type": "code",
   "execution_count": 35,
   "metadata": {},
   "outputs": [],
   "source": [
    "from sklearn.impute import SimpleImputer"
   ]
  },
  {
   "cell_type": "code",
   "execution_count": 36,
   "metadata": {},
   "outputs": [
    {
     "data": {
      "text/plain": [
       "array([[16.99, 'Yes', 'Female', 'Sun', 'Dinner'],\n",
       "       [10.34, 'No', 'Male', 'Sun', 'Dinner'],\n",
       "       [21.01, 'No', 'Male', 'Sun', 'Lunch'],\n",
       "       [23.68, 'Yes', 'Male', 'Sun', 'Lunch'],\n",
       "       [24.59, 'No', nan, 'Sat', 'Lunch'],\n",
       "       [25.29, 'Yes', 'Male', 'Sun', nan],\n",
       "       [8.77, 'No', nan, 'Sun', 'Dinner'],\n",
       "       [26.88, nan, 'Male', 'Mon', 'Lunch'],\n",
       "       [15.04, nan, 'Female', 'Sun', 'Dinner'],\n",
       "       [19.461666666666666, 'No', 'Male', nan, 'Lunch'],\n",
       "       [10.27, 'Yes', 'Male', 'Sun', 'Dinner'],\n",
       "       [35.26, 'No', 'Female', 'Fri', 'Breakfast'],\n",
       "       [15.42, 'Yes', 'Male', nan, nan]], dtype=object)"
      ]
     },
     "execution_count": 36,
     "metadata": {},
     "output_type": "execute_result"
    }
   ],
   "source": [
    "imputer = SimpleImputer(strategy=\"mean\")\n",
    "imputer = imputer.fit(X[:,0:1])\n",
    "X[:,0:1] = imputer.transform(X[:,0:1])\n",
    "X"
   ]
  },
  {
   "cell_type": "code",
   "execution_count": 37,
   "metadata": {},
   "outputs": [
    {
     "data": {
      "text/plain": [
       "array([[16.99, 'Yes', 'Female', 'Sun', 'Dinner'],\n",
       "       [10.34, 'No', 'Male', 'Sun', 'Dinner'],\n",
       "       [21.01, 'No', 'Male', 'Sun', 'Lunch'],\n",
       "       [23.68, 'Yes', 'Male', 'Sun', 'Lunch'],\n",
       "       [24.59, 'No', 'Male', 'Sat', 'Lunch'],\n",
       "       [25.29, 'Yes', 'Male', 'Sun', 'Dinner'],\n",
       "       [8.77, 'No', 'Male', 'Sun', 'Dinner'],\n",
       "       [26.88, 'No', 'Male', 'Mon', 'Lunch'],\n",
       "       [15.04, 'No', 'Female', 'Sun', 'Dinner'],\n",
       "       [19.461666666666666, 'No', 'Male', 'Sun', 'Lunch'],\n",
       "       [10.27, 'Yes', 'Male', 'Sun', 'Dinner'],\n",
       "       [35.26, 'No', 'Female', 'Fri', 'Breakfast'],\n",
       "       [15.42, 'Yes', 'Male', 'Sun', 'Dinner']], dtype=object)"
      ]
     },
     "execution_count": 37,
     "metadata": {},
     "output_type": "execute_result"
    }
   ],
   "source": [
    "imputer = SimpleImputer(strategy=\"most_frequent\")\n",
    "imputer = imputer.fit(X[:,1:5])\n",
    "X[:,1:5] = imputer.transform(X[:,1:5])\n",
    "X"
   ]
  },
  {
   "cell_type": "code",
   "execution_count": 38,
   "metadata": {},
   "outputs": [],
   "source": [
    "from sklearn.preprocessing import LabelEncoder\n",
    "label_encoder = LabelEncoder()\n",
    "X[:,1] = label_encoder.fit_transform(X[:,1])"
   ]
  },
  {
   "cell_type": "code",
   "execution_count": 39,
   "metadata": {},
   "outputs": [],
   "source": [
    "from sklearn.preprocessing import LabelEncoder\n",
    "label_encoder = LabelEncoder()\n",
    "X[:,2] = label_encoder.fit_transform(X[:,2])"
   ]
  },
  {
   "cell_type": "code",
   "execution_count": 40,
   "metadata": {},
   "outputs": [
    {
     "data": {
      "text/plain": [
       "array([[16.99, 1, 0, 'Sun', 'Dinner'],\n",
       "       [10.34, 0, 1, 'Sun', 'Dinner'],\n",
       "       [21.01, 0, 1, 'Sun', 'Lunch'],\n",
       "       [23.68, 1, 1, 'Sun', 'Lunch'],\n",
       "       [24.59, 0, 1, 'Sat', 'Lunch'],\n",
       "       [25.29, 1, 1, 'Sun', 'Dinner'],\n",
       "       [8.77, 0, 1, 'Sun', 'Dinner'],\n",
       "       [26.88, 0, 1, 'Mon', 'Lunch'],\n",
       "       [15.04, 0, 0, 'Sun', 'Dinner'],\n",
       "       [19.461666666666666, 0, 1, 'Sun', 'Lunch'],\n",
       "       [10.27, 1, 1, 'Sun', 'Dinner'],\n",
       "       [35.26, 0, 0, 'Fri', 'Breakfast'],\n",
       "       [15.42, 1, 1, 'Sun', 'Dinner']], dtype=object)"
      ]
     },
     "execution_count": 40,
     "metadata": {},
     "output_type": "execute_result"
    }
   ],
   "source": [
    "X"
   ]
  },
  {
   "cell_type": "code",
   "execution_count": 41,
   "metadata": {},
   "outputs": [],
   "source": [
    "from sklearn.preprocessing import OneHotEncoder\n",
    "from sklearn.compose import ColumnTransformer\n",
    "ct = ColumnTransformer([(\"day\",OneHotEncoder(),[3]),(\"time\",OneHotEncoder(),[4])],remainder=\"passthrough\")\n",
    "X = ct.fit_transform(X)"
   ]
  },
  {
   "cell_type": "code",
   "execution_count": 42,
   "metadata": {},
   "outputs": [
    {
     "data": {
      "text/plain": [
       "array([[0.0, 0.0, 0.0, 1.0, 0.0, 1.0, 0.0, 16.99, 1, 0],\n",
       "       [0.0, 0.0, 0.0, 1.0, 0.0, 1.0, 0.0, 10.34, 0, 1],\n",
       "       [0.0, 0.0, 0.0, 1.0, 0.0, 0.0, 1.0, 21.01, 0, 1],\n",
       "       [0.0, 0.0, 0.0, 1.0, 0.0, 0.0, 1.0, 23.68, 1, 1],\n",
       "       [0.0, 0.0, 1.0, 0.0, 0.0, 0.0, 1.0, 24.59, 0, 1],\n",
       "       [0.0, 0.0, 0.0, 1.0, 0.0, 1.0, 0.0, 25.29, 1, 1],\n",
       "       [0.0, 0.0, 0.0, 1.0, 0.0, 1.0, 0.0, 8.77, 0, 1],\n",
       "       [0.0, 1.0, 0.0, 0.0, 0.0, 0.0, 1.0, 26.88, 0, 1],\n",
       "       [0.0, 0.0, 0.0, 1.0, 0.0, 1.0, 0.0, 15.04, 0, 0],\n",
       "       [0.0, 0.0, 0.0, 1.0, 0.0, 0.0, 1.0, 19.461666666666666, 0, 1],\n",
       "       [0.0, 0.0, 0.0, 1.0, 0.0, 1.0, 0.0, 10.27, 1, 1],\n",
       "       [1.0, 0.0, 0.0, 0.0, 1.0, 0.0, 0.0, 35.26, 0, 0],\n",
       "       [0.0, 0.0, 0.0, 1.0, 0.0, 1.0, 0.0, 15.42, 1, 1]], dtype=object)"
      ]
     },
     "execution_count": 42,
     "metadata": {},
     "output_type": "execute_result"
    }
   ],
   "source": [
    "X"
   ]
  },
  {
   "cell_type": "code",
   "execution_count": 43,
   "metadata": {},
   "outputs": [],
   "source": [
    "from sklearn.model_selection import train_test_split\n",
    "X_train,X_test,y_train,y_test = train_test_split(X,y,test_size = 0.2, random_state = 0)"
   ]
  },
  {
   "cell_type": "code",
   "execution_count": 44,
   "metadata": {},
   "outputs": [
    {
     "data": {
      "text/plain": [
       "array([[0.0, 0.0, 0.0, 1.0, 0.0, 1.0, 0.0, 16.99, 1, 0],\n",
       "       [0.0, 0.0, 0.0, 1.0, 0.0, 1.0, 0.0, 10.34, 0, 1],\n",
       "       [0.0, 0.0, 0.0, 1.0, 0.0, 0.0, 1.0, 21.01, 0, 1],\n",
       "       [0.0, 0.0, 0.0, 1.0, 0.0, 0.0, 1.0, 23.68, 1, 1],\n",
       "       [0.0, 0.0, 1.0, 0.0, 0.0, 0.0, 1.0, 24.59, 0, 1],\n",
       "       [0.0, 0.0, 0.0, 1.0, 0.0, 1.0, 0.0, 25.29, 1, 1],\n",
       "       [0.0, 0.0, 0.0, 1.0, 0.0, 1.0, 0.0, 8.77, 0, 1],\n",
       "       [0.0, 1.0, 0.0, 0.0, 0.0, 0.0, 1.0, 26.88, 0, 1],\n",
       "       [0.0, 0.0, 0.0, 1.0, 0.0, 1.0, 0.0, 15.04, 0, 0],\n",
       "       [0.0, 0.0, 0.0, 1.0, 0.0, 0.0, 1.0, 19.461666666666666, 0, 1],\n",
       "       [0.0, 0.0, 0.0, 1.0, 0.0, 1.0, 0.0, 10.27, 1, 1],\n",
       "       [1.0, 0.0, 0.0, 0.0, 1.0, 0.0, 0.0, 35.26, 0, 0],\n",
       "       [0.0, 0.0, 0.0, 1.0, 0.0, 1.0, 0.0, 15.42, 1, 1]], dtype=object)"
      ]
     },
     "execution_count": 44,
     "metadata": {},
     "output_type": "execute_result"
    }
   ],
   "source": [
    "X"
   ]
  },
  {
   "cell_type": "code",
   "execution_count": 45,
   "metadata": {},
   "outputs": [
    {
     "name": "stdout",
     "output_type": "stream",
     "text": [
      "[[ 0.         -0.33333333  0.          0.33333333  0.          0.81649658\n",
      "  -0.81649658 -1.47083674  1.          0.5       ]\n",
      " [ 0.         -0.33333333  0.          0.33333333  0.         -1.22474487\n",
      "   1.22474487  0.46310845 -1.          0.5       ]\n",
      " [ 0.         -0.33333333  0.          0.33333333  0.          0.81649658\n",
      "  -0.81649658 -0.61190578 -1.         -2.        ]\n",
      " [ 0.         -0.33333333  0.          0.33333333  0.          0.81649658\n",
      "  -0.81649658 -1.45823189 -1.          0.5       ]\n",
      " [ 0.          3.          0.         -3.          0.         -1.22474487\n",
      "   1.22474487  1.52011573 -1.          0.5       ]\n",
      " [ 0.         -0.33333333  0.          0.33333333  0.         -1.22474487\n",
      "   1.22474487  0.18430101 -1.          0.5       ]\n",
      " [ 0.         -0.33333333  0.          0.33333333  0.         -1.22474487\n",
      "   1.22474487  0.9438937   1.          0.5       ]\n",
      " [ 0.         -0.33333333  0.          0.33333333  0.          0.81649658\n",
      "  -0.81649658 -0.26077048  1.         -2.        ]\n",
      " [ 0.         -0.33333333  0.          0.33333333  0.          0.81649658\n",
      "  -0.81649658  1.23380541  1.          0.5       ]\n",
      " [ 0.         -0.33333333  0.          0.33333333  0.          0.81649658\n",
      "  -0.81649658 -0.54347941  1.          0.5       ]]\n",
      "[[-0.70710678  0.         -0.70710678  1.41421356 -0.70710678  1.41421356\n",
      "  -0.70710678 -1.29597532  0.          0.70710678]\n",
      " [ 1.41421356  0.         -0.70710678 -0.70710678  1.41421356 -0.70710678\n",
      "  -0.70710678  1.13822839  0.         -1.41421356]\n",
      " [-0.70710678  0.          1.41421356 -0.70710678 -0.70710678 -0.70710678\n",
      "   1.41421356  0.15774694  0.          0.70710678]]\n"
     ]
    }
   ],
   "source": [
    "from sklearn.preprocessing import StandardScaler\n",
    "sc_X = StandardScaler()\n",
    "X_train = sc_X.fit_transform(X_train)\n",
    "print(X_train)\n",
    "X_test = sc_X.fit_transform(X_test)\n",
    "print(X_test)"
   ]
  }
 ],
 "metadata": {
  "kernelspec": {
   "display_name": "Python 3",
   "language": "python",
   "name": "python3"
  },
  "language_info": {
   "codemirror_mode": {
    "name": "ipython",
    "version": 3
   },
   "file_extension": ".py",
   "mimetype": "text/x-python",
   "name": "python",
   "nbconvert_exporter": "python",
   "pygments_lexer": "ipython3",
   "version": "3.12.0"
  }
 },
 "nbformat": 4,
 "nbformat_minor": 2
}
